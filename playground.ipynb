{
 "cells": [
  {
   "cell_type": "code",
   "execution_count": 1,
   "metadata": {},
   "outputs": [
    {
     "name": "stderr",
     "output_type": "stream",
     "text": [
      "2023-04-05 16:10:03.653515: I tensorflow/core/platform/cpu_feature_guard.cc:193] This TensorFlow binary is optimized with oneAPI Deep Neural Network Library (oneDNN) to use the following CPU instructions in performance-critical operations:  SSE4.1 SSE4.2 AVX AVX2 AVX_VNNI FMA\n",
      "To enable them in other operations, rebuild TensorFlow with the appropriate compiler flags.\n"
     ]
    }
   ],
   "source": [
    "import numpy as np\n",
    "import utils\n",
    "import tensorflow as tf\n",
    "from tensorflow import keras\n",
    "from tensorflow.keras import layers"
   ]
  },
  {
   "cell_type": "code",
   "execution_count": 10,
   "metadata": {},
   "outputs": [],
   "source": [
    "nb_features = 5\n",
    "max_timesteps = 50\n",
    "batch_size = 1\n",
    "train_samples = 100"
   ]
  },
  {
   "cell_type": "code",
   "execution_count": 11,
   "metadata": {},
   "outputs": [],
   "source": [
    "X_train, Y_train = utils.build_dataset(nb_features, max_timesteps, train_samples)"
   ]
  },
  {
   "cell_type": "code",
   "execution_count": 12,
   "metadata": {},
   "outputs": [
    {
     "data": {
      "text/plain": [
       "(TensorShape([100, 50, 5]), TensorShape([100, 50, 1]))"
      ]
     },
     "execution_count": 12,
     "metadata": {},
     "output_type": "execute_result"
    }
   ],
   "source": [
    "X_train.shape, Y_train.shape"
   ]
  },
  {
   "cell_type": "code",
   "execution_count": 13,
   "metadata": {},
   "outputs": [],
   "source": [
    "lstm_model = tf.keras.models.Sequential([\n",
    "    layers.LSTM(nb_features, return_sequences=True),\n",
    "    layers.Dense(units=1)\n",
    "])"
   ]
  },
  {
   "cell_type": "code",
   "execution_count": 14,
   "metadata": {},
   "outputs": [],
   "source": [
    "lstm_model.compile(optimizer='adam', loss=tf.keras.losses.BinaryCrossentropy(from_logits=True), metrics=['accuracy'])"
   ]
  },
  {
   "cell_type": "code",
   "execution_count": 15,
   "metadata": {},
   "outputs": [
    {
     "data": {
      "text/plain": [
       "<keras.callbacks.History at 0x7ff2a8f3e7f0>"
      ]
     },
     "execution_count": 15,
     "metadata": {},
     "output_type": "execute_result"
    }
   ],
   "source": [
    "lstm_model.fit(X_train, Y_train, epochs=50, verbose=0)"
   ]
  },
  {
   "cell_type": "code",
   "execution_count": 16,
   "metadata": {},
   "outputs": [],
   "source": [
    "output = lstm_model(X_train)"
   ]
  },
  {
   "cell_type": "code",
   "execution_count": 17,
   "metadata": {},
   "outputs": [
    {
     "data": {
      "text/plain": [
       "(<tf.Tensor: shape=(50, 1), dtype=float32, numpy=\n",
       " array([[0.59162486],\n",
       "        [0.5207976 ],\n",
       "        [0.39845648],\n",
       "        [0.43360764],\n",
       "        [0.44731858],\n",
       "        [0.30961606],\n",
       "        [0.37651348],\n",
       "        [0.28181207],\n",
       "        [0.22218607],\n",
       "        [0.20495214],\n",
       "        [0.19505289],\n",
       "        [0.14966507],\n",
       "        [0.1852523 ],\n",
       "        [0.21362616],\n",
       "        [0.2027716 ],\n",
       "        [0.15009679],\n",
       "        [0.12140469],\n",
       "        [0.1024549 ],\n",
       "        [0.1360021 ],\n",
       "        [0.1430506 ],\n",
       "        [0.1409405 ],\n",
       "        [0.15340662],\n",
       "        [0.14113754],\n",
       "        [0.15753801],\n",
       "        [0.13495068],\n",
       "        [0.16928042],\n",
       "        [0.12471373],\n",
       "        [0.12111408],\n",
       "        [0.14794827],\n",
       "        [0.15482086],\n",
       "        [0.13651343],\n",
       "        [0.18966667],\n",
       "        [0.15977749],\n",
       "        [0.13188593],\n",
       "        [0.12272359],\n",
       "        [0.12024645],\n",
       "        [0.13756679],\n",
       "        [0.1387311 ],\n",
       "        [0.14913714],\n",
       "        [0.14480634],\n",
       "        [0.15476283],\n",
       "        [0.1357073 ],\n",
       "        [0.12383178],\n",
       "        [0.14169265],\n",
       "        [0.11907397],\n",
       "        [0.16890179],\n",
       "        [0.15115626],\n",
       "        [0.16046102],\n",
       "        [0.19459295],\n",
       "        [0.16918062]], dtype=float32)>,\n",
       " <tf.Tensor: shape=(50, 1), dtype=int32, numpy=\n",
       " array([[0],\n",
       "        [0],\n",
       "        [0],\n",
       "        [0],\n",
       "        [0],\n",
       "        [0],\n",
       "        [0],\n",
       "        [0],\n",
       "        [0],\n",
       "        [0],\n",
       "        [0],\n",
       "        [0],\n",
       "        [0],\n",
       "        [0],\n",
       "        [0],\n",
       "        [0],\n",
       "        [0],\n",
       "        [0],\n",
       "        [0],\n",
       "        [0],\n",
       "        [0],\n",
       "        [0],\n",
       "        [0],\n",
       "        [0],\n",
       "        [0],\n",
       "        [0],\n",
       "        [0],\n",
       "        [0],\n",
       "        [0],\n",
       "        [0],\n",
       "        [0],\n",
       "        [0],\n",
       "        [0],\n",
       "        [0],\n",
       "        [0],\n",
       "        [0],\n",
       "        [0],\n",
       "        [0],\n",
       "        [0],\n",
       "        [0],\n",
       "        [0],\n",
       "        [0],\n",
       "        [0],\n",
       "        [0],\n",
       "        [0],\n",
       "        [0],\n",
       "        [0],\n",
       "        [0],\n",
       "        [0],\n",
       "        [0]], dtype=int32)>)"
      ]
     },
     "execution_count": 17,
     "metadata": {},
     "output_type": "execute_result"
    }
   ],
   "source": [
    "i=8\n",
    "tf.math.sigmoid(output[i]),Y_train[i]"
   ]
  },
  {
   "cell_type": "code",
   "execution_count": null,
   "metadata": {},
   "outputs": [],
   "source": []
  }
 ],
 "metadata": {
  "kernelspec": {
   "display_name": "lstm",
   "language": "python",
   "name": "python3"
  },
  "language_info": {
   "codemirror_mode": {
    "name": "ipython",
    "version": 3
   },
   "file_extension": ".py",
   "mimetype": "text/x-python",
   "name": "python",
   "nbconvert_exporter": "python",
   "pygments_lexer": "ipython3",
   "version": "3.9.16"
  },
  "orig_nbformat": 4
 },
 "nbformat": 4,
 "nbformat_minor": 2
}
